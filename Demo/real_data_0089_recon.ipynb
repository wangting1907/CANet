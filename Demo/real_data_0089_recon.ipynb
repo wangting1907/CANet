{
 "cells": [
  {
   "cell_type": "code",
   "execution_count": 1,
   "id": "2c205dca-094b-4f6b-b045-3d36cc11ac93",
   "metadata": {},
   "outputs": [
    {
     "name": "stderr",
     "output_type": "stream",
     "text": [
      "/home/cxhpc/anaconda3/envs/tomocupy/lib/python3.12/site-packages/cupyx/jit/_interface.py:173: FutureWarning: cupyx.jit.rawkernel is experimental. The interface can change in the future.\n",
      "  cupy._util.experimental('cupyx.jit.rawkernel')\n",
      "astropy module not found\n"
     ]
    }
   ],
   "source": [
    "import os\n",
    "import gc\n",
    "import numpy as np\n",
    "import tomopy\n",
    "import skimage\n",
    "from scipy.ndimage import zoom\n",
    "import matplotlib.pyplot as plt\n",
    "from skimage.metrics import peak_signal_noise_ratio, structural_similarity\n",
    "import torch.nn.functional as F\n",
    "import random\n",
    "import torch\n",
    "import scipy.io as scio\n",
    "import astra\n",
    "from skimage.metrics import peak_signal_noise_ratio, structural_similarity\n",
    "import time\n",
    "from tomocupy_stream import GPURecRAM\n",
    "from tomocupy_stream import find_center\n",
    "import tifffile\n",
    "import dxchange\n",
    "from ipywidgets import interact, interactive, fixed, interact_manual\n",
    "import ipywidgets as widgets\n",
    "DEVICE=\"2\""
   ]
  },
  {
   "cell_type": "code",
   "execution_count": 2,
   "id": "fe7eb03f-04d1-4872-9a60-b7347a0e3514",
   "metadata": {},
   "outputs": [
    {
     "name": "stdout",
     "output_type": "stream",
     "text": [
      "(180, 331, 402)\n"
     ]
    }
   ],
   "source": [
    "alignment_data=np.load(\"./Data/XANES_00089/alignment_result/alignment_8570.npy\")\n",
    "print(alignment_data.shape)"
   ]
  },
  {
   "cell_type": "code",
   "execution_count": 3,
   "id": "3eb2040a-3864-44dc-a0cf-9405b75be912",
   "metadata": {},
   "outputs": [
    {
     "name": "stdout",
     "output_type": "stream",
     "text": [
      "(331, 180, 402)\n",
      "auto rotation axis 205.99999999999994\n",
      "chunk 042/042 |  |████████████████████████████████████████| 100.0% \n",
      "(331, 402, 402)\n",
      "0.0031520317 -0.00896219\n",
      "chunk 042/042 |  |████████████████████████████████████████| 100.0% \n",
      "(180, 331, 402)\n",
      "21.085974 -0.5108855\n"
     ]
    }
   ],
   "source": [
    "proj=alignment_data\n",
    "c,h,w=proj.shape\n",
    "dark = np.zeros([1,h,w],dtype='float32')\n",
    "flat = np.ones([1,h,w],dtype='float32')\n",
    "data = np.zeros([c,h,w],dtype='float32')\n",
    "data = data.swapaxes(0,1)\n",
    "theta = np.linspace(0,180,180).astype('float32')\n",
    "center_search_width = 1\n",
    "center_search_step = 0.1\n",
    "center_search_ind = data.shape[0]//2\n",
    "tmp=proj.swapaxes(0,1)\n",
    "print(tmp.shape)\n",
    "rotation_axis = find_center.find_center_vo(tmp, dark, flat,\n",
    "                                           ind=center_search_ind,\n",
    "                                           smin=-center_search_width, \n",
    "                                           smax=center_search_width, \n",
    "                                           step=center_search_step)\n",
    "print('auto rotation axis',rotation_axis)\n",
    "\n",
    "cl = GPURecRAM.for_data_like(\n",
    "    data=data,\n",
    "    dark=dark,\n",
    "    flat=flat,\n",
    "    ncz=8,  # chunk size for GPU processing (multiple of 2), \n",
    "    rotation_axis=rotation_axis,  # rotation center\n",
    "    dtype=\"float32\",  # computation type, note  for float16 n should be a power of 2\n",
    "    reconstruction_algorithm='fourierrec',\n",
    "    fbp_filter='parzen', \n",
    "    minus_log=False)\n",
    "obj_proj = cl.recon_all(tmp, dark, flat, theta)\n",
    "# obj_proj=tomopy.circ_mask(obj_proj,axis=0,ratio=0.8)\n",
    "print(obj_proj.shape)\n",
    "print(np.max(obj_proj), np.min(obj_proj))\n",
    "re_proj = cl.proj_all(obj_proj,theta)\n",
    "re_proj=re_proj.swapaxes(0,1)\n",
    "print(re_proj.shape)\n",
    "print(np.max(re_proj),np.min(re_proj))"
   ]
  },
  {
   "cell_type": "code",
   "execution_count": 4,
   "id": "c609db47-5c24-4903-872a-48a16646e6ec",
   "metadata": {},
   "outputs": [
    {
     "name": "stdout",
     "output_type": "stream",
     "text": [
      "(331, 402, 402)\n"
     ]
    },
    {
     "data": {
      "application/vnd.jupyter.widget-view+json": {
       "model_id": "f517b1ab38dd44cf9521c4660010e564",
       "version_major": 2,
       "version_minor": 0
      },
      "text/plain": [
       "interactive(children=(IntSlider(value=165, description='sid', max=330), Output()), _dom_classes=('widget-inter…"
      ]
     },
     "metadata": {},
     "output_type": "display_data"
    },
    {
     "data": {
      "text/plain": [
       "<function __main__.plot_projections(sid=1)>"
      ]
     },
     "execution_count": 4,
     "metadata": {},
     "output_type": "execute_result"
    }
   ],
   "source": [
    "print(obj_proj.shape)\n",
    "obj_proj=np.abs(obj_proj)\n",
    "def plot_projections(sid=1):\n",
    "    plt.imshow(obj_proj[sid,:,:],cmap='gray')\n",
    "interact(plot_projections, sid = widgets.IntSlider(value=obj_proj.shape[0]//2,\n",
    "                                               min=0,\n",
    "                                               max=obj_proj.shape[0]-1,\n",
    "                                               step=1))"
   ]
  },
  {
   "cell_type": "code",
   "execution_count": 26,
   "id": "8fff952b-a66a-46f6-aed5-75fc5208cc00",
   "metadata": {},
   "outputs": [],
   "source": [
    "energy=8570\n",
    "obj_proj=obj_proj/np.max(obj_proj)\n",
    "for idx in range(1, obj_proj.shape[0] + 1):\n",
    "    slice = obj_proj[idx-1, :, :]\n",
    "    slice = (slice * 255).astype(np.uint8)\n",
    "    filename = f\"./XANES_00089/test_recon/{idx:06}_{energy:05d}.00_eV_{idx:05d}.tif\"\n",
    "    tifffile.imwrite(filename, slice)"
   ]
  },
  {
   "cell_type": "code",
   "execution_count": 5,
   "id": "2a86c794-5d85-4c59-a73d-5c0dc9ac67fd",
   "metadata": {},
   "outputs": [
    {
     "data": {
      "application/vnd.jupyter.widget-view+json": {
       "model_id": "e263cf341cce4a57a10b3fb910c8e7fb",
       "version_major": 2,
       "version_minor": 0
      },
      "text/plain": [
       "interactive(children=(IntSlider(value=90, description='sid', max=179), Output()), _dom_classes=('widget-intera…"
      ]
     },
     "metadata": {},
     "output_type": "display_data"
    },
    {
     "data": {
      "text/plain": [
       "<function __main__.plot_projections(sid=1)>"
      ]
     },
     "execution_count": 5,
     "metadata": {},
     "output_type": "execute_result"
    }
   ],
   "source": [
    "def plot_projections(sid=1):\n",
    "    plt.imshow(alignment_data[sid,:,:],cmap='gray')\n",
    "interact(plot_projections, sid = widgets.IntSlider(value=alignment_data.shape[0]//2,\n",
    "                                               min=0,\n",
    "                                               max=alignment_data.shape[0]-1,\n",
    "                                               step=1))"
   ]
  },
  {
   "cell_type": "code",
   "execution_count": null,
   "id": "c478e8d6-269f-45e0-80da-619556ea877e",
   "metadata": {},
   "outputs": [],
   "source": []
  }
 ],
 "metadata": {
  "kernelspec": {
   "display_name": "Python 3 (ipykernel)",
   "language": "python",
   "name": "python3"
  },
  "language_info": {
   "codemirror_mode": {
    "name": "ipython",
    "version": 3
   },
   "file_extension": ".py",
   "mimetype": "text/x-python",
   "name": "python",
   "nbconvert_exporter": "python",
   "pygments_lexer": "ipython3",
   "version": "3.12.7"
  }
 },
 "nbformat": 4,
 "nbformat_minor": 5
}
