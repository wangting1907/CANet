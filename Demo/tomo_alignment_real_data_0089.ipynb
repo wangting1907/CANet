{
 "cells": [
  {
   "cell_type": "code",
   "execution_count": 1,
   "id": "beaddcb0-9a8d-4e04-a3b8-7ca6e0c00fb2",
   "metadata": {},
   "outputs": [
    {
     "name": "stderr",
     "output_type": "stream",
     "text": [
      "astropy module not found\n",
      "/home/cxhpc/anaconda3/envs/tomocupy/lib/python3.12/site-packages/cupyx/jit/_interface.py:173: FutureWarning: cupyx.jit.rawkernel is experimental. The interface can change in the future.\n",
      "  cupy._util.experimental('cupyx.jit.rawkernel')\n"
     ]
    }
   ],
   "source": [
    "import os\n",
    "import sys\n",
    "sys.path.append(os.path.abspath(\"..\"))\n",
    "import gc\n",
    "import numpy as np\n",
    "import tomopy\n",
    "import skimage\n",
    "from scipy.ndimage import zoom\n",
    "import matplotlib.pyplot as plt\n",
    "from skimage.metrics import peak_signal_noise_ratio, structural_similarity\n",
    "import torch.nn.functional as F\n",
    "import random\n",
    "import torch\n",
    "from inr import models\n",
    "from math import exp\n",
    "import math \n",
    "from torch.optim.lr_scheduler import ReduceLROnPlateau\n",
    "from focal_frequency_loss import FocalFrequencyLoss as FFL\n",
    "from utils import *\n",
    "from train_tomo_alignment import *\n",
    "import scipy.io as scio\n",
    "import astra\n",
    "from skimage.metrics import peak_signal_noise_ratio, structural_similarity\n",
    "import time\n",
    "from tomocupy_stream import GPURecRAM\n",
    "from tomocupy_stream import find_center\n",
    "import tifffile\n",
    "import dxchange\n",
    "from ipywidgets import interact, interactive, fixed, interact_manual\n",
    "import ipywidgets as widgets\n",
    "DEVICE=\"2\""
   ]
  },
  {
   "cell_type": "code",
   "execution_count": 3,
   "id": "8974d199-67e9-406d-8d8f-0d8f0633460c",
   "metadata": {},
   "outputs": [],
   "source": [
    "sim=np.load('./Data/tomo_data/data_8346.npy')"
   ]
  },
  {
   "cell_type": "code",
   "execution_count": 4,
   "id": "797ffbfd-3fa0-414d-8b41-21e17e094ccc",
   "metadata": {},
   "outputs": [
    {
     "data": {
      "application/vnd.jupyter.widget-view+json": {
       "model_id": "a2206545787043cf9213bd8b3aa191b2",
       "version_major": 2,
       "version_minor": 0
      },
      "text/plain": [
       "interactive(children=(IntSlider(value=90, description='sid', max=179), Output()), _dom_classes=('widget-intera…"
      ]
     },
     "metadata": {},
     "output_type": "display_data"
    },
    {
     "data": {
      "text/plain": [
       "<function __main__.plot_projections(sid=1)>"
      ]
     },
     "execution_count": 4,
     "metadata": {},
     "output_type": "execute_result"
    }
   ],
   "source": [
    "def plot_projections(sid=1):\n",
    "    plt.imshow(sim[sid,:,:],cmap='gray')\n",
    "interact(plot_projections, sid = widgets.IntSlider(value=sim.shape[0]//2,\n",
    "                                               min=0,\n",
    "                                               max=sim.shape[0]-1,\n",
    "                                               step=1))"
   ]
  },
  {
   "cell_type": "code",
   "execution_count": 5,
   "id": "4366d8eb-c91f-47d4-9a24-c6578bea0ffb",
   "metadata": {},
   "outputs": [
    {
     "name": "stdout",
     "output_type": "stream",
     "text": [
      "temporal_coord, shape: torch.Size([180, 1]), range: (tensor(-1.), tensor(1.))\n"
     ]
    }
   ],
   "source": [
    "######### Coordinate, Model, loss function, dark, flat, theta################\n",
    "c, h, w=sim.shape\n",
    "temporal_coord=get_coordinate(c)\n",
    "k=2\n",
    "temporal_params = {'nonlin': 'siren', 'in_features': 1, 'out_features': k,\n",
    "                   'hidden_features': 256, 'hidden_layers': 3, 'outermost_linear': True}\n",
    "temporal_model = models.get_INR(**temporal_params)\n",
    "print(f'temporal_coord, shape: {temporal_coord.shape}, range: {temporal_coord.min(), temporal_coord.max()}')\n",
    "ffl = FFL(loss_weight=3, alpha=1)\n",
    "dark = np.zeros([1,h,w],dtype='float32')\n",
    "flat = np.ones([1,h,w],dtype='float32')\n",
    "data = np.zeros([c,h,w],dtype='float32')\n",
    "data = data.swapaxes(0,1)\n",
    "theta = np.linspace(0,180,c).astype('float32')"
   ]
  },
  {
   "cell_type": "code",
   "execution_count": 13,
   "id": "562ba22c-3b67-4935-a5f1-615b33cb98f1",
   "metadata": {
    "scrolled": true
   },
   "outputs": [
    {
     "name": "stdout",
     "output_type": "stream",
     "text": [
      "auto rotation axis 203.0\n",
      "chunk 042/042 |  |████████████████████████████████████████| 100.0% \n",
      "chunk 042/042 |  |████████████████████████████████████████| 100.0% \n"
     ]
    },
    {
     "name": "stderr",
     "output_type": "stream",
     "text": [
      "/tmp/ipykernel_3937504/655963934.py:77: FutureWarning: `torch.cuda.amp.autocast(args...)` is deprecated. Please use `torch.amp.autocast('cuda', args...)` instead.\n",
      "  with autocast():  # 混合精度训练\n",
      "/tmp/ipykernel_3937504/655963934.py:92: UserWarning: Inputs have mismatched dtype.  Setting data_range based on image_true.\n",
      "  tmp_psnr = peak_signal_noise_ratio(\n"
     ]
    },
    {
     "name": "stdout",
     "output_type": "stream",
     "text": [
      "[0/10], error: 0.4133, all_psnr: 30.83\n",
      "chunk 042/042 |  |████████████████████████████████████████| 100.0% \n",
      "chunk 042/042 |  |████████████████████████████████████████| 100.0% \n",
      "[1/10], error: 0.0805, all_psnr: 30.51\n",
      "chunk 042/042 |  |████████████████████████████████████████| 100.0% \n",
      "chunk 042/042 |  |████████████████████████████████████████| 100.0% \n",
      "[2/10], error: 0.0494, all_psnr: 30.27\n",
      "chunk 042/042 |  |████████████████████████████████████████| 100.0% \n",
      "chunk 042/042 |  |████████████████████████████████████████| 100.0% \n",
      "[3/10], error: 0.0448, all_psnr: 30.03\n",
      "chunk 042/042 |  |████████████████████████████████████████| 100.0% \n",
      "chunk 042/042 |  |████████████████████████████████████████| 100.0% \n",
      "[4/10], error: 0.0380, all_psnr: 29.84\n",
      "chunk 042/042 |  |████████████████████████████████████████| 100.0% \n",
      "chunk 042/042 |  |████████████████████████████████████████| 100.0% \n",
      "[5/10], error: 0.0294, all_psnr: 29.70\n",
      "chunk 042/042 |  |████████████████████████████████████████| 100.0% \n",
      "chunk 042/042 |  |████████████████████████████████████████| 100.0% \n",
      "[6/10], error: 0.0251, all_psnr: 29.55\n",
      "chunk 042/042 |  |████████████████████████████████████████| 100.0% \n",
      "chunk 042/042 |  |████████████████████████████████████████| 100.0% \n",
      "[7/10], error: 0.0215, all_psnr: 29.47\n",
      "chunk 042/042 |  |████████████████████████████████████████| 100.0% \n",
      "chunk 042/042 |  |████████████████████████████████████████| 100.0% \n",
      "[8/10], error: 0.0195, all_psnr: 29.38\n",
      "chunk 042/042 |  |████████████████████████████████████████| 100.0% \n",
      "chunk 042/042 |  |████████████████████████████████████████| 100.0% \n",
      "[9/10], error: 0.0180, all_psnr: 29.27\n",
      "Elapsed time: 90.92 seconds\n"
     ]
    }
   ],
   "source": [
    "tomo_alignment_results=projection_reprojection_alignment(sim, sim, dark, flat, theta, data, temporal_coord, temporal_model,ffl, temperature=20, mode='bicubic')"
   ]
  },
  {
   "cell_type": "code",
   "execution_count": 15,
   "id": "5b709d54-b40a-4fbb-a6a2-2c29c4627d7b",
   "metadata": {},
   "outputs": [],
   "source": [
    "pred= tomo_alignment_results['pred']"
   ]
  },
  {
   "cell_type": "code",
   "execution_count": 16,
   "id": "b305c655-a765-4d52-bccf-79131c2364e8",
   "metadata": {},
   "outputs": [
    {
     "data": {
      "application/vnd.jupyter.widget-view+json": {
       "model_id": "dcd2b168bcbb4cae8b4888929158b06f",
       "version_major": 2,
       "version_minor": 0
      },
      "text/plain": [
       "interactive(children=(IntSlider(value=165, description='sid', max=330), Output()), _dom_classes=('widget-inter…"
      ]
     },
     "metadata": {},
     "output_type": "display_data"
    },
    {
     "data": {
      "text/plain": [
       "<function __main__.plot_projections(sid=1)>"
      ]
     },
     "execution_count": 16,
     "metadata": {},
     "output_type": "execute_result"
    }
   ],
   "source": [
    "pred[pred<=0]=0\n",
    "def plot_projections(sid=1):\n",
    "    plt.imshow(pred[:,sid,:],cmap='gray')\n",
    "interact(plot_projections, sid = widgets.IntSlider(value=pred.shape[1]//2,\n",
    "                                               min=0,\n",
    "                                               max=pred.shape[1]-1,\n",
    "                                               step=1))"
   ]
  },
  {
   "cell_type": "code",
   "execution_count": 17,
   "id": "c65bbaf6-5b39-464f-88cd-b58f3df5611a",
   "metadata": {},
   "outputs": [
    {
     "data": {
      "application/vnd.jupyter.widget-view+json": {
       "model_id": "b3ef1c44187f40708c2298054a1ff355",
       "version_major": 2,
       "version_minor": 0
      },
      "text/plain": [
       "interactive(children=(IntSlider(value=165, description='sid', max=330), Output()), _dom_classes=('widget-inter…"
      ]
     },
     "metadata": {},
     "output_type": "display_data"
    },
    {
     "data": {
      "text/plain": [
       "<function __main__.plot_projections(sid=1)>"
      ]
     },
     "execution_count": 17,
     "metadata": {},
     "output_type": "execute_result"
    }
   ],
   "source": [
    "pred[pred<=0]=0\n",
    "def plot_projections(sid=1):\n",
    "    plt.imshow(sim[:,sid,:],cmap='gray')\n",
    "interact(plot_projections, sid = widgets.IntSlider(value=sim.shape[1]//2,\n",
    "                                               min=0,\n",
    "                                               max=sim.shape[1]-1,\n",
    "                                               step=1))"
   ]
  },
  {
   "cell_type": "code",
   "execution_count": null,
   "id": "2474ebcc-a8b3-4467-9e11-e81e65da786e",
   "metadata": {},
   "outputs": [],
   "source": []
  }
 ],
 "metadata": {
  "kernelspec": {
   "display_name": "Python 3 (ipykernel)",
   "language": "python",
   "name": "python3"
  },
  "language_info": {
   "codemirror_mode": {
    "name": "ipython",
    "version": 3
   },
   "file_extension": ".py",
   "mimetype": "text/x-python",
   "name": "python",
   "nbconvert_exporter": "python",
   "pygments_lexer": "ipython3",
   "version": "3.12.7"
  }
 },
 "nbformat": 4,
 "nbformat_minor": 5
}
