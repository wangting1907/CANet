{
 "cells": [
  {
   "cell_type": "code",
   "execution_count": 1,
   "id": "e50ebc02",
   "metadata": {},
   "outputs": [],
   "source": [
    "from tomocupy_stream import GPURecRAM\n",
    "import numpy as np\n",
    "import tifffile\n",
    "from ipywidgets import interact, interactive, fixed, interact_manual\n",
    "import ipywidgets as widgets\n",
    "import matplotlib.pyplot as plt\n",
    "%matplotlib inline"
   ]
  },
  {
   "cell_type": "markdown",
   "id": "66148d7f",
   "metadata": {},
   "source": [
    "# Download data with the direct link"
   ]
  },
  {
   "cell_type": "code",
   "execution_count": null,
   "id": "511d9581",
   "metadata": {},
   "outputs": [
    {
     "name": "stdout",
     "output_type": "stream",
     "text": [
      "--2023-05-30 19:49:44--  https://anl.box.com/shared/static/or8vlzdu07d8zwxvk50ihwghq39ide0o.npz\n",
      "Resolving anl.box.com (anl.box.com)... 74.112.186.144\n",
      "Connecting to anl.box.com (anl.box.com)|74.112.186.144|:443... connected.\n",
      "HTTP request sent, awaiting response... 301 Moved Permanently\n",
      "Location: /public/static/or8vlzdu07d8zwxvk50ihwghq39ide0o.npz [following]\n",
      "--2023-05-30 19:49:44--  https://anl.box.com/public/static/or8vlzdu07d8zwxvk50ihwghq39ide0o.npz\n",
      "Reusing existing connection to anl.box.com:443.\n",
      "HTTP request sent, awaiting response... 301 Moved Permanently\n",
      "Location: https://anl.app.box.com/public/static/or8vlzdu07d8zwxvk50ihwghq39ide0o.npz [following]\n",
      "--2023-05-30 19:49:44--  https://anl.app.box.com/public/static/or8vlzdu07d8zwxvk50ihwghq39ide0o.npz\n",
      "Resolving anl.app.box.com (anl.app.box.com)... 74.112.186.144\n",
      "Connecting to anl.app.box.com (anl.app.box.com)|74.112.186.144|:443... connected.\n",
      "HTTP request sent, awaiting response... 302 Found\n",
      "Location: https://public.boxcloud.com/d/1/b1!s2p-owKlly5DhkqJhJ8gzRGT5OMtS-1_2eWvZ05yQeC1bBaTq69l2xdpUVPptupm8IeVMYOev9JaZPs58zWQMK0cv9Vwi74hzCqtG3g_Tilf1t0j4bvAU96JYAY70452YPNVu2JhvywpJfqrojXnFi6bC48ESlnDGHxsxDmdr7D5b8VbWV1uDmHJHhmVFVnTl-nJ_1WvA63g94u6bSDI7vTE4tFf1OhwaP3aJBascVq_5pNo2OWQaiCxK3BUo8nQuEmS_egMzzlUkHSQlnc36K9P7ibPk5kV7qdKXd1uQqUfE54wQO4tyxCVovb5cZFbqmxw-k7oPI8yUxc-5HfP4aEXBL6GacvnIZ9iwAlQUdRnovnG7H-e8QA_B5KTX6UhwJr02cFl41HLflKkBHMOBn4vL8y2N83rykSPtCvWtnGaCnnadQJTsdDWTeHLPxYeD_RyxbWESI7c5Rb69NeYuMTNO7JerAiCf4jsdin2zPIu-gSEplR46X-fg4TME0xdQ-tAD99BIP04NAtSM13S-eUWYhvxhXep41QPbZmv6mR0AU0FLXRYRzNng-NdAwfdwcHfGDwuTxr9l5BdjQKUvQQZuUAwOO3DclsWdGA0iziWAj50UYi7hmCNigNJ_K4Uz0Fn4WJgfXP8gYYNi5tZrDnf7i2ruVH7-S9pFHMmes2c9gZevIDc307f3jOKmUTupRuGaVpaIx-Jk6YpbAXdo6VEJTo8uFm24lagdvp8znAe4-z7alQ-Sm-oCUwBUuW2HPyFyMFFN4rCn93y5_XVNsXLsSTuWNk3OBrkkSEtatuuCu90J2w6InE9gRsaodsg7OkpJJwU-JSghhJRzYlsBQWzF4-c2Qr61mFmT6qY0gdpQybZyd72oAeuLc8b_vE-QuswuTbdg3IC-66itVBMMokUMmZSSIoh5355GHmsOuxplnY-W2geHnPiZuvb7W1FOdnJfDfFxmsbdzIibwgSKeD7XB7HWnceYDlA-ZXmkfJucgPZwgA6CS_J5WrUEDjgHNmkua7iwDL-0c6ESrUscP2NAa0aWagxcjhByGmkyK3RWfHi0EkDgY79Qr_e9UDaESMHoxY2tFRksHeZChjYvdg4rNk1RLTPjKvBHP5XZvrt0r1ZCM8mRSEHQtUQtV5rfVx6Cx1R8K1pJodjEO-ahfl77FJCL-dPQA3rErkZHTaVJQYt0WxUTDWpGhZPs3hkArQuvkrv_l6dTkRjCFHgoxHi06ZJq9M4-TshO0YgIh2sNKkn_W6jHvl2P0-eLH6ndfBdIZWT98IvazY295C-ae83HPDon_o9YhCsK2pOQfwJhP4GbI2oWsWClWEgEpqsv4Lt9xiFYKdbKVyrh37eg0W3hk8pFetrLiAmH8kIKuQmlfOFtu_oQu-8-FbJVEQtmvG9Ccl9Gg3Lv1qc9g../download [following]\n",
      "--2023-05-30 19:49:45--  https://public.boxcloud.com/d/1/b1!s2p-owKlly5DhkqJhJ8gzRGT5OMtS-1_2eWvZ05yQeC1bBaTq69l2xdpUVPptupm8IeVMYOev9JaZPs58zWQMK0cv9Vwi74hzCqtG3g_Tilf1t0j4bvAU96JYAY70452YPNVu2JhvywpJfqrojXnFi6bC48ESlnDGHxsxDmdr7D5b8VbWV1uDmHJHhmVFVnTl-nJ_1WvA63g94u6bSDI7vTE4tFf1OhwaP3aJBascVq_5pNo2OWQaiCxK3BUo8nQuEmS_egMzzlUkHSQlnc36K9P7ibPk5kV7qdKXd1uQqUfE54wQO4tyxCVovb5cZFbqmxw-k7oPI8yUxc-5HfP4aEXBL6GacvnIZ9iwAlQUdRnovnG7H-e8QA_B5KTX6UhwJr02cFl41HLflKkBHMOBn4vL8y2N83rykSPtCvWtnGaCnnadQJTsdDWTeHLPxYeD_RyxbWESI7c5Rb69NeYuMTNO7JerAiCf4jsdin2zPIu-gSEplR46X-fg4TME0xdQ-tAD99BIP04NAtSM13S-eUWYhvxhXep41QPbZmv6mR0AU0FLXRYRzNng-NdAwfdwcHfGDwuTxr9l5BdjQKUvQQZuUAwOO3DclsWdGA0iziWAj50UYi7hmCNigNJ_K4Uz0Fn4WJgfXP8gYYNi5tZrDnf7i2ruVH7-S9pFHMmes2c9gZevIDc307f3jOKmUTupRuGaVpaIx-Jk6YpbAXdo6VEJTo8uFm24lagdvp8znAe4-z7alQ-Sm-oCUwBUuW2HPyFyMFFN4rCn93y5_XVNsXLsSTuWNk3OBrkkSEtatuuCu90J2w6InE9gRsaodsg7OkpJJwU-JSghhJRzYlsBQWzF4-c2Qr61mFmT6qY0gdpQybZyd72oAeuLc8b_vE-QuswuTbdg3IC-66itVBMMokUMmZSSIoh5355GHmsOuxplnY-W2geHnPiZuvb7W1FOdnJfDfFxmsbdzIibwgSKeD7XB7HWnceYDlA-ZXmkfJucgPZwgA6CS_J5WrUEDjgHNmkua7iwDL-0c6ESrUscP2NAa0aWagxcjhByGmkyK3RWfHi0EkDgY79Qr_e9UDaESMHoxY2tFRksHeZChjYvdg4rNk1RLTPjKvBHP5XZvrt0r1ZCM8mRSEHQtUQtV5rfVx6Cx1R8K1pJodjEO-ahfl77FJCL-dPQA3rErkZHTaVJQYt0WxUTDWpGhZPs3hkArQuvkrv_l6dTkRjCFHgoxHi06ZJq9M4-TshO0YgIh2sNKkn_W6jHvl2P0-eLH6ndfBdIZWT98IvazY295C-ae83HPDon_o9YhCsK2pOQfwJhP4GbI2oWsWClWEgEpqsv4Lt9xiFYKdbKVyrh37eg0W3hk8pFetrLiAmH8kIKuQmlfOFtu_oQu-8-FbJVEQtmvG9Ccl9Gg3Lv1qc9g../download\n",
      "Resolving public.boxcloud.com (public.boxcloud.com)... 74.112.186.128\n",
      "Connecting to public.boxcloud.com (public.boxcloud.com)|74.112.186.128|:443... connected.\n",
      "HTTP request sent, awaiting response... 200 OK\n",
      "Length: 4205777184 (3.9G) [application/octet-stream]\n",
      "Saving to: ‘or8vlzdu07d8zwxvk50ihwghq39ide0o.npz’\n",
      "\n",
      "de0o.npz             82%[===============>    ]   3.25G  4.70MB/s    eta 2m 24s "
     ]
    }
   ],
   "source": [
    "!wget -nc https://anl.box.com/shared/static/or8vlzdu07d8zwxvk50ihwghq39ide0o.npz"
   ]
  },
  {
   "cell_type": "markdown",
   "id": "7bea98cb",
   "metadata": {},
   "source": [
    "# Read data, dark and flat fields, projection angles, the rotation center"
   ]
  },
  {
   "cell_type": "code",
   "execution_count": null,
   "id": "8c5de4e2",
   "metadata": {},
   "outputs": [],
   "source": [
    "mdict = np.load('or8vlzdu07d8zwxvk50ihwghq39ide0o.npz')\n",
    "data = mdict['data']\n",
    "dark = mdict['dark']\n",
    "flat = mdict['flat']\n",
    "theta = mdict['theta']\n",
    "center = mdict['center']\n"
   ]
  },
  {
   "cell_type": "markdown",
   "id": "61dfde95",
   "metadata": {},
   "source": [
    "# Data consists of 1501 projections of the size [1024x1360]. For convience data are saved as sinograms (first two dimensions are swapped)"
   ]
  },
  {
   "cell_type": "code",
   "execution_count": null,
   "id": "596e9047",
   "metadata": {},
   "outputs": [],
   "source": [
    "data.shape "
   ]
  },
  {
   "cell_type": "markdown",
   "id": "8a9542cf",
   "metadata": {},
   "source": [
    "# Plot projections"
   ]
  },
  {
   "cell_type": "code",
   "execution_count": null,
   "id": "76c73b36",
   "metadata": {},
   "outputs": [],
   "source": [
    "def plot_projections(sid=1):\n",
    "    plt.imshow(data[:,sid],cmap='gray')\n",
    "interact(plot_projections, sid = widgets.IntSlider(value=data.shape[1]//2,\n",
    "                                               min=0,\n",
    "                                               max=data.shape[1]-1,\n",
    "                                               step=1))"
   ]
  },
  {
   "cell_type": "markdown",
   "id": "cf282d12",
   "metadata": {},
   "source": [
    "# Plot sinograms"
   ]
  },
  {
   "cell_type": "code",
   "execution_count": null,
   "id": "e4134700",
   "metadata": {},
   "outputs": [],
   "source": [
    "def plot_sinogram(sid=1):\n",
    "    plt.imshow(data[sid],cmap='gray')\n",
    "interact(plot_sinogram, sid = widgets.IntSlider(value=data.shape[0]//2,\n",
    "                                               min=0,\n",
    "                                               max=data.shape[0]-1,\n",
    "                                               step=1))"
   ]
  },
  {
   "cell_type": "markdown",
   "id": "45c26f2a",
   "metadata": {},
   "source": []
  },
  {
   "cell_type": "markdown",
   "id": "ae0c5eb2",
   "metadata": {},
   "source": [
    "# Create a class for reconstruction. Minus logarithm is turned off, dark=0, flat=1 since the inital data is already preprocessed."
   ]
  },
  {
   "cell_type": "code",
   "execution_count": null,
   "id": "b5e3dd86",
   "metadata": {},
   "outputs": [],
   "source": [
    "cl = GPURecRAM.for_data_like(\n",
    "    data=data,\n",
    "    dark=dark,\n",
    "    flat=flat,\n",
    "    ncz=8,  # chunk size for GPU processing (multiple of 2), \n",
    "    rotation_axis=center,  # rotation center\n",
    "    dtype=\"float32\",  # computation type, note  for float16 n should be a power of 2\n",
    "    fbp_filter='parzen',\n",
    "    minus_log=False\n",
    ")"
   ]
  },
  {
   "cell_type": "markdown",
   "id": "ca067dfe",
   "metadata": {},
   "source": [
    "# Reconstruct by Tomocupy (the non-command-line version)"
   ]
  },
  {
   "cell_type": "code",
   "execution_count": null,
   "id": "986c5c41",
   "metadata": {},
   "outputs": [],
   "source": [
    "obj = cl.recon_all(data, dark, flat, theta)"
   ]
  },
  {
   "cell_type": "code",
   "execution_count": null,
   "id": "4361eec9",
   "metadata": {},
   "outputs": [],
   "source": [
    "def plot_rec(sid=1):\n",
    "    plt.imshow(obj[sid],cmap='gray',vmin=-0.005,vmax=0.01)\n",
    "interact(plot_rec, sid = widgets.IntSlider(value=obj.shape[0]//2,\n",
    "                                               min=0,\n",
    "                                               max=obj.shape[0]-1,\n",
    "                                               step=1))"
   ]
  },
  {
   "cell_type": "markdown",
   "id": "8cc4d023",
   "metadata": {},
   "source": [
    "# Reproject data"
   ]
  },
  {
   "cell_type": "code",
   "execution_count": null,
   "id": "24d3859f",
   "metadata": {},
   "outputs": [],
   "source": [
    "data_reproj = cl.proj_all(obj,theta)"
   ]
  },
  {
   "cell_type": "code",
   "execution_count": null,
   "id": "db5cdabe",
   "metadata": {},
   "outputs": [],
   "source": [
    "def plot_projections(sid=1):\n",
    "    plt.figure(figsize=(15,10))\n",
    "    plt.subplot(1,2,1)\n",
    "    plt.title('initial data')\n",
    "    plt.imshow(data[:,sid],cmap='gray')\n",
    "    plt.subplot(1,2,2)\n",
    "    plt.title('reprojected data')\n",
    "    plt.imshow(data_reproj[:,sid],cmap='gray')\n",
    "interact(plot_projections, sid = widgets.IntSlider(value=data.shape[1]//2,\n",
    "                                               min=0,\n",
    "                                               max=data.shape[1]-1,\n",
    "                                               step=1))"
   ]
  },
  {
   "cell_type": "code",
   "execution_count": null,
   "id": "5ab28f9c",
   "metadata": {},
   "outputs": [],
   "source": [
    "def plot_sinogram(sid=1):\n",
    "    plt.figure(figsize=(15,10))\n",
    "    plt.subplot(1,2,1)\n",
    "    plt.title('initial data')\n",
    "    plt.imshow(data[sid],cmap='gray')\n",
    "    plt.subplot(1,2,2)\n",
    "    plt.title('reprojected data')\n",
    "    plt.imshow(data_reproj[sid],cmap='gray')    \n",
    "interact(plot_sinogram, sid = widgets.IntSlider(value=data.shape[0]//2,\n",
    "                                               min=0,\n",
    "                                               max=data.shape[0]-1,\n",
    "                                               step=1))"
   ]
  },
  {
   "cell_type": "markdown",
   "id": "5a345a9b",
   "metadata": {},
   "source": [
    "# Reconstruct the object by using reprojected data"
   ]
  },
  {
   "cell_type": "markdown",
   "id": "6693c399",
   "metadata": {},
   "source": [
    "## We can use the ramp filter instead of the parzen filter since we want to keep high frequencies in images. So we recreate the reconstruction class"
   ]
  },
  {
   "cell_type": "code",
   "execution_count": null,
   "id": "7ec80ada",
   "metadata": {},
   "outputs": [],
   "source": [
    "cl = GPURecRAM.for_data_like(\n",
    "    data=data,\n",
    "    dark=dark,\n",
    "    flat=flat,\n",
    "    ncz=8,  # chunk size for GPU processing (multiple of 2), \n",
    "    rotation_axis=center,  # rotation center\n",
    "    dtype=\"float32\",  # computation type, note  for float16 n should be a power of 2\n",
    "    fbp_filter='ramp',\n",
    "    minus_log=False\n",
    ")"
   ]
  },
  {
   "cell_type": "code",
   "execution_count": null,
   "id": "64c2457c",
   "metadata": {},
   "outputs": [],
   "source": [
    "obj_reproj = cl.recon_all(data_reproj, dark, flat, theta)"
   ]
  },
  {
   "cell_type": "markdown",
   "id": "cc1c5aa6",
   "metadata": {},
   "source": [
    "## Adjust scaling"
   ]
  },
  {
   "cell_type": "code",
   "execution_count": null,
   "id": "3a42b566",
   "metadata": {},
   "outputs": [],
   "source": [
    "obj_reproj*=np.linalg.norm(obj)/np.linalg.norm(obj_reproj)"
   ]
  },
  {
   "cell_type": "code",
   "execution_count": null,
   "id": "b24df0bf",
   "metadata": {},
   "outputs": [],
   "source": [
    "def plot_rec(sid=1):\n",
    "    plt.figure(figsize=(15,10))\n",
    "    plt.subplot(1,2,1)\n",
    "    plt.title('initial reconstruction')\n",
    "    plt.imshow(obj_reproj[sid],cmap='gray',vmin=-0.005,vmax=0.01)\n",
    "    plt.colorbar(orientation='horizontal')\n",
    "    plt.subplot(1,2,2)\n",
    "    plt.title('reconstruction after reprojection')\n",
    "    plt.imshow(obj[sid],cmap='gray',vmin=-0.005,vmax=0.01)\n",
    "    plt.colorbar(orientation='horizontal')\n",
    "interact(plot_rec, sid = widgets.IntSlider(value=obj.shape[0]//2,\n",
    "                                               min=0,\n",
    "                                               max=obj.shape[0]-1,\n",
    "                                               step=1))"
   ]
  },
  {
   "cell_type": "markdown",
   "id": "bdddc596",
   "metadata": {},
   "source": [
    "## Plot difference, note colorbar"
   ]
  },
  {
   "cell_type": "code",
   "execution_count": null,
   "id": "7d5eaa46",
   "metadata": {},
   "outputs": [],
   "source": [
    "def plot_rec(sid=1):\n",
    "    plt.figure(figsize=(15,10))\n",
    "    plt.imshow(obj[sid]-obj_reproj[sid],cmap='gray',vmin=-0.0002,vmax=0.0002)    \n",
    "    plt.colorbar(orientation='horizontal')\n",
    "interact(plot_rec, sid = widgets.IntSlider(value=obj.shape[0]//2,\n",
    "                                               min=0,\n",
    "                                               max=obj.shape[0]-1,\n",
    "                                               step=1))"
   ]
  },
  {
   "cell_type": "code",
   "execution_count": null,
   "id": "2a6d0ae0",
   "metadata": {},
   "outputs": [],
   "source": []
  }
 ],
 "metadata": {
  "kernelspec": {
   "display_name": "Python 3 (ipykernel)",
   "language": "python",
   "name": "python3"
  },
  "language_info": {
   "codemirror_mode": {
    "name": "ipython",
    "version": 3
   },
   "file_extension": ".py",
   "mimetype": "text/x-python",
   "name": "python",
   "nbconvert_exporter": "python",
   "pygments_lexer": "ipython3",
   "version": "3.9.10"
  }
 },
 "nbformat": 4,
 "nbformat_minor": 5
}
