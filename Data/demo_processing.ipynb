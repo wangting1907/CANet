{
 "cells": [
  {
   "cell_type": "code",
   "execution_count": 22,
   "id": "a381fe85-2adb-4de5-95d8-deb21148df96",
   "metadata": {},
   "outputs": [],
   "source": [
    "from pathlib import Path\n",
    "import dxchange\n",
    "import numpy as np\n",
    "import tomopy\n",
    "from ipywidgets import interact, interactive, fixed, interact_manual\n",
    "import ipywidgets as widgets\n",
    "import matplotlib.pyplot as plt\n",
    "import sys\n",
    "import os\n",
    "sys.path.append(os.path.abspath(\"..\"))\n",
    "from utils import flat_correct, process_image, background_remove"
   ]
  },
  {
   "cell_type": "code",
   "execution_count": 23,
   "id": "8c0532e4-235b-4eb4-9d01-f7dd919fb101",
   "metadata": {},
   "outputs": [],
   "source": [
    "def load_xrm_list(xrm_list):\n",
    "    data_stack = None\n",
    "    metadatas = []\n",
    "    for i, filename in enumerate(xrm_list):\n",
    "        data, metadata = dxchange.read_xrm(str(filename))\n",
    "        if data_stack is None:\n",
    "            data_stack = np.zeros((len(xrm_list),)+data.shape, data.dtype)\n",
    "        data_stack[i] = data\n",
    "        metadatas.append(metadata)\n",
    "    return data_stack, metadatas"
   ]
  },
  {
   "cell_type": "code",
   "execution_count": 24,
   "id": "cecec84e-f5a3-4c70-892f-e42129d9c007",
   "metadata": {},
   "outputs": [],
   "source": [
    "def parse_scan_file(txt_file):\n",
    "    energies = []\n",
    "    refs = []\n",
    "    collects = []\n",
    "    with open(txt_file, \"r\") as f:\n",
    "        for line in f.readlines():\n",
    "            if line.startswith(\"sete \"):\n",
    "                energies.append(float(line[5:]))\n",
    "                refs.append([])\n",
    "                collects.append([])\n",
    "            elif line.startswith(\"collect \"):\n",
    "                filename = line[8:].strip()\n",
    "                if \"_ref_\" in filename:\n",
    "                    refs[-1].append(Path(txt_file).parent / filename)\n",
    "                else:\n",
    "                    collects[-1].append(Path(txt_file).parent / filename)\n",
    "    return energies, refs, collects"
   ]
  },
  {
   "cell_type": "code",
   "execution_count": 25,
   "id": "d12ab34c-6a3f-4428-9685-a695c6a27a09",
   "metadata": {},
   "outputs": [],
   "source": [
    "def load_energy_index(energy_index, refs, collects):\n",
    "    flats, _ = load_xrm_list(refs[energy_index])\n",
    "    projs, metadatas = load_xrm_list(collects[energy_index])\n",
    "    thetas = [metadata['thetas'][0] for metadata in metadatas]\n",
    "    return flats, projs, thetas"
   ]
  },
  {
   "cell_type": "code",
   "execution_count": 26,
   "id": "4b72faf5-ad7a-45a4-9dd3-8c250329e546",
   "metadata": {},
   "outputs": [
    {
     "name": "stdout",
     "output_type": "stream",
     "text": [
      "[6534.0, 6558.0, 7704.0, 7728.0, 8178.0, 8193.0, 8208.0, 8223.0, 8238.0, 8253.0, 8268.0, 8283.0, 8298.0, 8313.0, 8328.0, 8329.0, 8330.0, 8331.0, 8332.0, 8333.0, 8334.0, 8335.0, 8336.0, 8337.0, 8338.0, 8339.0, 8340.0, 8341.0, 8342.0, 8343.0, 8344.0, 8345.0, 8346.0, 8347.0, 8348.0, 8349.0, 8350.0, 8351.0, 8352.0, 8353.0, 8354.0, 8355.0, 8356.0, 8357.0, 8358.0, 8359.0, 8360.0, 8361.0, 8362.0, 8363.0, 8364.0, 8365.0, 8366.0, 8367.0, 8368.0, 8369.0, 8370.0, 8390.0, 8410.0, 8430.0, 8450.0, 8470.0, 8490.0, 8510.0, 8530.0, 8550.0, 8570.0]\n",
      "Loading energy 6534.000000eV\n",
      "(180, 1024, 1024)\n"
     ]
    }
   ],
   "source": [
    "txt_file = Path(\"./XANES_00089/AC3_C4p6_3SXANES/AC3_C4p6_3DXANES_TOMO-XANES.txt\")\n",
    "energies, refs, collects = parse_scan_file(txt_file)\n",
    "print(energies)\n",
    "energy_index = 0    \n",
    "print(\"Loading energy %feV\"%(energies[energy_index]))\n",
    "flats, projs, thetas = load_energy_index(energy_index, refs, collects)\n",
    "print(projs.shape)"
   ]
  },
  {
   "cell_type": "code",
   "execution_count": 27,
   "id": "33931803-eb1d-429d-a259-97c5c4225b25",
   "metadata": {},
   "outputs": [
    {
     "data": {
      "application/vnd.jupyter.widget-view+json": {
       "model_id": "b4eceeaf7f8b47469f715c38493f0db3",
       "version_major": 2,
       "version_minor": 0
      },
      "text/plain": [
       "interactive(children=(IntSlider(value=90, description='sid', max=179), Output()), _dom_classes=('widget-intera…"
      ]
     },
     "metadata": {},
     "output_type": "display_data"
    },
    {
     "data": {
      "text/plain": [
       "<function __main__.plot_projections(sid=1)>"
      ]
     },
     "execution_count": 27,
     "metadata": {},
     "output_type": "execute_result"
    }
   ],
   "source": [
    "def plot_projections(sid=1):\n",
    "    plt.imshow(projs[sid,:,:],cmap='gray')\n",
    "interact(plot_projections, sid = widgets.IntSlider(value=projs.shape[0]//2,\n",
    "                                               min=0,\n",
    "                                               max=projs.shape[0]-1,\n",
    "                                               step=1))"
   ]
  },
  {
   "cell_type": "code",
   "execution_count": 28,
   "id": "3f4705d9-eeef-4b09-a0db-b35bbd3aea76",
   "metadata": {},
   "outputs": [],
   "source": [
    "sim=flat_correct(projs,flats)\n",
    "assert sim.shape == projs.shape\n",
    "sim= process_image(sim)            ##remove negative\n",
    "sim=background_remove(sim)   "
   ]
  },
  {
   "cell_type": "code",
   "execution_count": 29,
   "id": "b38b1c9b-c0bc-4971-911f-81a47707892f",
   "metadata": {},
   "outputs": [
    {
     "data": {
      "application/vnd.jupyter.widget-view+json": {
       "model_id": "4d65ecdd1f5c48a1b1671c0ccd216ebd",
       "version_major": 2,
       "version_minor": 0
      },
      "text/plain": [
       "interactive(children=(IntSlider(value=90, description='sid', max=179), Output()), _dom_classes=('widget-intera…"
      ]
     },
     "metadata": {},
     "output_type": "display_data"
    },
    {
     "data": {
      "text/plain": [
       "<function __main__.plot_projections(sid=1)>"
      ]
     },
     "execution_count": 29,
     "metadata": {},
     "output_type": "execute_result"
    }
   ],
   "source": [
    "def plot_projections(sid=1):\n",
    "    plt.imshow(sim[sid,:,:],cmap='gray')\n",
    "interact(plot_projections, sid = widgets.IntSlider(value=sim.shape[0]//2,\n",
    "                                               min=0,\n",
    "                                               max=sim.shape[0]-1,\n",
    "                                               step=1))"
   ]
  },
  {
   "cell_type": "code",
   "execution_count": null,
   "id": "ef3cce8d-acba-456a-b3b3-c96c4762d8ff",
   "metadata": {},
   "outputs": [],
   "source": [
    "np.save('./Data/XANES_00089/post-processing/data_6534.npy', sim)"
   ]
  }
 ],
 "metadata": {
  "kernelspec": {
   "display_name": "Python 3 (ipykernel)",
   "language": "python",
   "name": "python3"
  },
  "language_info": {
   "codemirror_mode": {
    "name": "ipython",
    "version": 3
   },
   "file_extension": ".py",
   "mimetype": "text/x-python",
   "name": "python",
   "nbconvert_exporter": "python",
   "pygments_lexer": "ipython3",
   "version": "3.12.7"
  }
 },
 "nbformat": 4,
 "nbformat_minor": 5
}
